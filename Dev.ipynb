{
 "cells": [
  {
   "cell_type": "markdown",
   "source": [
    "# Development notebook for optical evaporative cooling DSMC\n",
    "Patrick Gleeson, Semester 2 2021"
   ],
   "metadata": {}
  },
  {
   "cell_type": "code",
   "execution_count": 37,
   "source": [
    "# Setup\n",
    "\n",
    "# using Pkg\n",
    "# Pkg.add(\"BenchmarkTools\")\n",
    "# Pkg.add(\"LinearAlgebra)\n",
    "# Pkg.add(\"Calculus\")\n",
    "\n",
    "# using BenchmarkTools\n",
    "# using Calculus\n",
    "using LinearAlgebra\n",
    "using Plots\n",
    "using Random\n",
    "\n",
    "# Set random generator seed\n",
    "Random.seed!(1)"
   ],
   "outputs": [
    {
     "output_type": "execute_result",
     "data": {
      "text/plain": [
       "MersenneTwister(1)"
      ]
     },
     "metadata": {},
     "execution_count": 37
    }
   ],
   "metadata": {}
  },
  {
   "cell_type": "markdown",
   "source": [
    "## Algorithm"
   ],
   "metadata": {}
  },
  {
   "cell_type": "code",
   "execution_count": 38,
   "source": [
    "# Distribute atoms\n",
    "\n",
    "function init_uniform(N, v_th, gas_size)\n",
    "    # Initialise random positions and velocities in unit cube\n",
    "    positions = 2 * gas_size * (rand(3, N) :: Matrix{Float64} .- 0.5)\n",
    "    velocities = 2 * v_th * (rand(3, N) :: Matrix{Float64} .- 0.5)\n",
    "    active_indices = Vector{Int64}(1:N)\n",
    "\n",
    "    return positions, velocities, active_indices\n",
    "end"
   ],
   "outputs": [
    {
     "output_type": "execute_result",
     "data": {
      "text/plain": [
       "init_uniform (generic function with 1 method)"
      ]
     },
     "metadata": {},
     "execution_count": 38
    }
   ],
   "metadata": {}
  },
  {
   "cell_type": "code",
   "execution_count": 39,
   "source": [
    "# Define a potential and acceleration\n",
    "\n",
    "function harmonic(wx, wy, wz)\n",
    "    w_squared = [wx^2, wy^2, wz^2]\n",
    "    accel(r) = - r .* w_squared\n",
    "    # Potential _per mass_\n",
    "    potential(r) = 0.5 * dot(w_squared, r .* r)\n",
    "    return potential, accel\n",
    "end\n",
    "\n",
    "#=\n",
    "# Defining via automatic differentiation\n",
    "simplify(differentiate(\"cos(x)\"))\n",
    "=#"
   ],
   "outputs": [
    {
     "output_type": "execute_result",
     "data": {
      "text/plain": [
       "harmonic (generic function with 1 method)"
      ]
     },
     "metadata": {},
     "execution_count": 39
    }
   ],
   "metadata": {}
  },
  {
   "cell_type": "code",
   "execution_count": 40,
   "source": [
    "# Apply motion\n",
    "function free_step!(positions, velocities, dt)\n",
    "    positions .+= velocities * dt\n",
    "end\n",
    "\n",
    "# Velocty Verlet step\n",
    "function verlet_step!(positions, velocities, accel, dt)\n",
    "    # Approximate position half-way through time-step\n",
    "    positions .+= (dt / 2.0) .* velocities\n",
    "    # Acceleration halfway through timestep.\n",
    "    # TODO: implement time-dependence, and evaluate at (t + dt/2)\n",
    "    velocities .+= dt .* hcat([accel(r) for r in eachcol(positions)]...)\n",
    "    # Updated positions at end of timestep\n",
    "    positions .+= (dt / 2.0) .* velocities\n",
    "end"
   ],
   "outputs": [
    {
     "output_type": "execute_result",
     "data": {
      "text/plain": [
       "verlet_step! (generic function with 1 method)"
      ]
     },
     "metadata": {},
     "execution_count": 40
    }
   ],
   "metadata": {}
  },
  {
   "cell_type": "code",
   "execution_count": 41,
   "source": [
    "# Placeholder collision step\n",
    "function collisions!(positions, velocities)\n",
    "    return true\n",
    "end"
   ],
   "outputs": [
    {
     "output_type": "execute_result",
     "data": {
      "text/plain": [
       "collisions! (generic function with 1 method)"
      ]
     },
     "metadata": {},
     "execution_count": 41
    }
   ],
   "metadata": {}
  },
  {
   "cell_type": "code",
   "execution_count": 42,
   "source": [
    "# Simulation\n",
    "function evolve!(positions, velocities, acceleration, potential, duration, dt)\n",
    "    iterations = convert(Int64, ceil(duration / dt))\n",
    "    total_ke = zeros(iterations)\n",
    "    total_pe = zeros(iterations)\n",
    "    time = zeros(iterations)\n",
    "    \n",
    "    t = 0\n",
    "    i = 1\n",
    "    while i <= iterations\n",
    "        # Collisionless motion step\n",
    "        verlet_step!(positions, velocities, acceleration, dt)\n",
    "        # Collision step\n",
    "        collisions!(positions, velocities)\n",
    "        # Measure energy\n",
    "        total_ke[i] = ke(velocities)\n",
    "        total_pe[i] = pe(positions, potential)\n",
    "\n",
    "        # TODO: measure number density\n",
    "        # TODO: make potential & acceleration time-dependent\n",
    "        # Record time\n",
    "        time[i] = t\n",
    "        t += dt\n",
    "        i += 1\n",
    "    end\n",
    "\n",
    "    return time, total_ke, total_pe\n",
    "end"
   ],
   "outputs": [
    {
     "output_type": "execute_result",
     "data": {
      "text/plain": [
       "evolve! (generic function with 1 method)"
      ]
     },
     "metadata": {},
     "execution_count": 42
    }
   ],
   "metadata": {}
  },
  {
   "cell_type": "code",
   "execution_count": 43,
   "source": [
    "# Measure total energy (per mass)\n",
    "function ke(velocities::Matrix)\n",
    "    return 0.5 * sum(velocities .* velocities)\n",
    "    #sum(velocities .* velocities, dims = 1)\n",
    "end\n",
    "\n",
    "function pe(positions::Matrix, potential)\n",
    "    return sum([potential(r) for r in eachcol(positions)])\n",
    "end"
   ],
   "outputs": [
    {
     "output_type": "execute_result",
     "data": {
      "text/plain": [
       "pe (generic function with 1 method)"
      ]
     },
     "metadata": {},
     "execution_count": 43
    }
   ],
   "metadata": {}
  },
  {
   "cell_type": "markdown",
   "source": [
    "## Testing"
   ],
   "metadata": {}
  },
  {
   "cell_type": "code",
   "execution_count": 44,
   "source": [
    "function test()\n",
    "    # Simulation parameters\n",
    "    dt = 1e-4 # timestep\n",
    "    N = convert(Int64, 1e5) # initial number of atoms\n",
    "    v_th = 0.01\n",
    "    gas_size = 10e-6 # approximate size of gas\n",
    "    duration = 0.1\n",
    "\n",
    "    # Rough thermal velocity estimate for Rb-87 at 1 microKelvin: 0.01 m/s\n",
    "    positions, velocities, active_indices = init_uniform(N, v_th, gas_size)\n",
    "    ω_x = 2π * 150;\n",
    "    ω_y = 2π * 150;\n",
    "    ω_z = 2π * 15;\n",
    "    \n",
    "    potential, accel = harmonic(ω_x, ω_y, ω_z)\n",
    "    time, ke, pe = evolve!(positions, velocities, accel, potential, duration, dt)\n",
    "    plt = plot(time, ke + pe,\n",
    "         title = \"Total energy per atomic mass, over time\",\n",
    "         legend = false)\n",
    "    xlabel!(\"Time (s)\")\n",
    "    ylabel!(\"Massic energy (J/kg)\")\n",
    "    savefig(\"total-energy.png\")\n",
    "    display(plt)\n",
    "end"
   ],
   "outputs": [
    {
     "output_type": "execute_result",
     "data": {
      "text/plain": [
       "test (generic function with 1 method)"
      ]
     },
     "metadata": {},
     "execution_count": 44
    }
   ],
   "metadata": {}
  },
  {
   "cell_type": "code",
   "execution_count": 45,
   "source": [
    "test()"
   ],
   "outputs": [],
   "metadata": {}
  },
  {
   "cell_type": "code",
   "execution_count": null,
   "source": [],
   "outputs": [],
   "metadata": {}
  }
 ],
 "metadata": {
  "kernelspec": {
   "display_name": "Julia 1.6.1",
   "language": "julia",
   "name": "julia-1.6"
  },
  "language_info": {
   "file_extension": ".jl",
   "mimetype": "application/julia",
   "name": "julia",
   "version": "1.6.1"
  }
 },
 "nbformat": 4,
 "nbformat_minor": 2
}