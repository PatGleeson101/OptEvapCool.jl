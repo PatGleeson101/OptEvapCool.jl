{
    "cells": [
        {
            "cell_type": "markdown",
            "source": [
                "# Development notebook for optical evaporative cooling DSMC\n",
                "Patrick Gleeson, Semester 2 2021"
            ],
            "metadata": {}
        },
        {
            "cell_type": "code",
            "execution_count": 1,
            "source": [
                "# Simulation parameters\n",
                "const dt = 0.1 # timestep\n",
                "const m = 1e-27 # atom mass\n",
                "const N0 = 10000 # initial number of atoms"
            ],
            "outputs": [
                {
                    "output_type": "execute_result",
                    "data": {
                        "text/plain": [
                            "10000"
                        ]
                    },
                    "metadata": {},
                    "execution_count": 1
                }
            ],
            "metadata": {}
        },
        {
            "cell_type": "code",
            "execution_count": 15,
            "source": [
                "# Set random generator seed\n",
                "using Random\n",
                "Random.seed!(1)"
            ],
            "outputs": [],
            "metadata": {}
        },
        {
            "cell_type": "markdown",
            "source": [
                "## Method 1: Atom struct"
            ],
            "metadata": {}
        },
        {
            "cell_type": "code",
            "execution_count": 2,
            "source": [
                "# Represent the position and momentum of an atom\n",
                "mutable struct Atom\n",
                "    r::Vector{Float64} # position\n",
                "    v::Vector{Float64} # velocity\n",
                "end\n"
            ],
            "outputs": [],
            "metadata": {}
        },
        {
            "cell_type": "code",
            "execution_count": 3,
            "source": [
                "# Initialise atoms in unit cube with random velocities\n",
                "atoms = Vector{Atom}() # atom storage\n",
                "for i in 1:N0\n",
                "    push!(atoms, Atom(rand(3), rand(3)))\n",
                "end"
            ],
            "outputs": [],
            "metadata": {}
        },
        {
            "cell_type": "code",
            "execution_count": 4,
            "source": [
                "# Plot trajectories\n",
                "\n",
                "# using Pkg; Pkg.add(\"Plots\")\n",
                "using Plots\n",
                "\n",
                "function plotAtoms(atoms)\n",
                "    x_values = [atom.r[1] for atom in atoms]\n",
                "    y_values = [atom.r[2] for atom in atoms]\n",
                "    scatter(x_values, y_values, title = \"z-projection\")\n",
                "end\n"
            ],
            "outputs": [
                {
                    "output_type": "execute_result",
                    "data": {
                        "text/plain": [
                            "plotAtoms (generic function with 1 method)"
                        ]
                    },
                    "metadata": {},
                    "execution_count": 4
                }
            ],
            "metadata": {}
        },
        {
            "cell_type": "code",
            "execution_count": 5,
            "source": [
                "# Perform collisionless evolution with no potential\n",
                "function step!(atoms, dt)\n",
                "    for atom in atoms\n",
                "        atom.r += atom.v * dt\n",
                "    end\n",
                "\n",
                "    return atoms\n",
                "end"
            ],
            "outputs": [
                {
                    "output_type": "execute_result",
                    "data": {
                        "text/plain": [
                            "step! (generic function with 1 method)"
                        ]
                    },
                    "metadata": {},
                    "execution_count": 5
                }
            ],
            "metadata": {}
        },
        {
            "cell_type": "code",
            "execution_count": 6,
            "source": [
                "# Free evolution for certain time\n",
                "function freeEvolve!(atoms, t_max, dt)\n",
                "    t = 0\n",
                "    while t < t_max\n",
                "        step!(atoms, dt)\n",
                "        t += dt\n",
                "    end\n",
                "end"
            ],
            "outputs": [
                {
                    "output_type": "execute_result",
                    "data": {
                        "text/plain": [
                            "freeEvolve! (generic function with 1 method)"
                        ]
                    },
                    "metadata": {},
                    "execution_count": 6
                }
            ],
            "metadata": {}
        },
        {
            "cell_type": "markdown",
            "source": [
                "## Method 2: 2D Array"
            ],
            "metadata": {}
        },
        {
            "cell_type": "code",
            "execution_count": 7,
            "source": [
                "# Initialise random positions and velocities in unit cube\n",
                "positions = rand(3, N0) :: Matrix{Float64}\n",
                "velocities = rand(3, N0) :: Matrix{Float64}"
            ],
            "outputs": [
                {
                    "output_type": "execute_result",
                    "data": {
                        "text/plain": [
                            "3×10000 Matrix{Float64}:\n",
                            " 0.822958  0.836126   0.740351   0.584458   …  0.0460656  0.410584  0.654696\n",
                            " 0.239832  0.0566834  0.0326669  0.0617902     0.383997   0.289975  0.268674\n",
                            " 0.891546  0.394944   0.298327   0.0690056     0.758958   0.500926  0.715779"
                        ]
                    },
                    "metadata": {},
                    "execution_count": 7
                }
            ],
            "metadata": {}
        },
        {
            "cell_type": "code",
            "execution_count": 8,
            "source": [
                "# Stepping is:\n",
                "function arraystep!(positions, velocities, dt)\n",
                "    positions .+= velocities * dt\n",
                "end"
            ],
            "outputs": [
                {
                    "output_type": "execute_result",
                    "data": {
                        "text/plain": [
                            "arraystep! (generic function with 1 method)"
                        ]
                    },
                    "metadata": {},
                    "execution_count": 8
                }
            ],
            "metadata": {}
        },
        {
            "cell_type": "code",
            "execution_count": 9,
            "source": [
                "# Free evolve\n",
                "function arrayFreeEvolve!(positions, velocities, t_max, dt)\n",
                "    t = 0\n",
                "    while t < t_max\n",
                "        arraystep!(positions, velocities, dt)\n",
                "        t += dt\n",
                "    end\n",
                "end"
            ],
            "outputs": [
                {
                    "output_type": "execute_result",
                    "data": {
                        "text/plain": [
                            "arrayFreeEvolve! (generic function with 1 method)"
                        ]
                    },
                    "metadata": {},
                    "execution_count": 9
                }
            ],
            "metadata": {}
        },
        {
            "cell_type": "markdown",
            "source": [
                "## Comparison"
            ],
            "metadata": {}
        },
        {
            "cell_type": "code",
            "execution_count": 10,
            "source": [
                "# using Pkg\n",
                "# Pkg.add(\"BenchmarkTools\")\n",
                "using BenchmarkTools\n",
                "t_max = 10"
            ],
            "outputs": [
                {
                    "output_type": "execute_result",
                    "data": {
                        "text/plain": [
                            "10"
                        ]
                    },
                    "metadata": {},
                    "execution_count": 10
                }
            ],
            "metadata": {}
        },
        {
            "cell_type": "code",
            "execution_count": 11,
            "source": [
                "@benchmark arrayFreeEvolve!(positions, velocities, t_max, dt)"
            ],
            "outputs": [
                {
                    "output_type": "execute_result",
                    "data": {
                        "text/plain": [
                            "BenchmarkTools.Trial: 139 samples with 1 evaluation.\n",
                            " Range \u001b[90m(\u001b[39m\u001b[36m\u001b[1mmin\u001b[22m\u001b[39m … \u001b[35mmax\u001b[39m\u001b[90m):  \u001b[39m\u001b[36m\u001b[1m27.799 ms\u001b[22m\u001b[39m … \u001b[35m131.621 ms\u001b[39m  \u001b[90m┊\u001b[39m GC \u001b[90m(\u001b[39mmin … max\u001b[90m): \u001b[39m 0.00% … 30.68%\n",
                            " Time  \u001b[90m(\u001b[39m\u001b[34m\u001b[1mmedian\u001b[22m\u001b[39m\u001b[90m):     \u001b[39m\u001b[34m\u001b[1m35.178 ms               \u001b[22m\u001b[39m\u001b[90m┊\u001b[39m GC \u001b[90m(\u001b[39mmedian\u001b[90m):    \u001b[39m17.76%\n",
                            " Time  \u001b[90m(\u001b[39m\u001b[32m\u001b[1mmean\u001b[22m\u001b[39m ± \u001b[32mσ\u001b[39m\u001b[90m):   \u001b[39m\u001b[32m\u001b[1m36.052 ms\u001b[22m\u001b[39m ± \u001b[32m 11.553 ms\u001b[39m  \u001b[90m┊\u001b[39m GC \u001b[90m(\u001b[39mmean ± σ\u001b[90m):  \u001b[39m11.73% ± 10.25%\n",
                            "\n",
                            "  \u001b[39m \u001b[39m▄\u001b[39m▃\u001b[39m▁\u001b[39m \u001b[39m \u001b[34m█\u001b[39m\u001b[32m▃\u001b[39m\u001b[39m \u001b[39m \u001b[39m \u001b[39m \u001b[39m \u001b[39m \u001b[39m \u001b[39m \u001b[39m \u001b[39m \u001b[39m \u001b[39m \u001b[39m \u001b[39m \u001b[39m \u001b[39m \u001b[39m \u001b[39m \u001b[39m \u001b[39m \u001b[39m \u001b[39m \u001b[39m \u001b[39m \u001b[39m \u001b[39m \u001b[39m \u001b[39m \u001b[39m \u001b[39m \u001b[39m \u001b[39m \u001b[39m \u001b[39m \u001b[39m \u001b[39m \u001b[39m \u001b[39m \u001b[39m \u001b[39m \u001b[39m \u001b[39m \u001b[39m \u001b[39m \u001b[39m \u001b[39m \u001b[39m \u001b[39m \u001b[39m \u001b[39m \u001b[39m \u001b[39m \u001b[39m \u001b[39m \n",
                            "  \u001b[39m▆\u001b[39m█\u001b[39m█\u001b[39m█\u001b[39m▄\u001b[39m▇\u001b[34m█\u001b[39m\u001b[32m█\u001b[39m\u001b[39m▇\u001b[39m▅\u001b[39m▃\u001b[39m▁\u001b[39m▃\u001b[39m▃\u001b[39m▃\u001b[39m▁\u001b[39m▁\u001b[39m▃\u001b[39m▁\u001b[39m▃\u001b[39m▁\u001b[39m▁\u001b[39m▁\u001b[39m▁\u001b[39m▁\u001b[39m▁\u001b[39m▁\u001b[39m▁\u001b[39m▁\u001b[39m▁\u001b[39m▁\u001b[39m▁\u001b[39m▁\u001b[39m▁\u001b[39m▁\u001b[39m▁\u001b[39m▁\u001b[39m▁\u001b[39m▁\u001b[39m▁\u001b[39m▁\u001b[39m▁\u001b[39m▁\u001b[39m▃\u001b[39m▁\u001b[39m▁\u001b[39m▁\u001b[39m▁\u001b[39m▁\u001b[39m▁\u001b[39m▁\u001b[39m▁\u001b[39m▁\u001b[39m▁\u001b[39m▁\u001b[39m▁\u001b[39m▁\u001b[39m▁\u001b[39m▁\u001b[39m▃\u001b[39m \u001b[39m▃\n",
                            "  27.8 ms\u001b[90m         Histogram: frequency by time\u001b[39m          102 ms \u001b[0m\u001b[1m<\u001b[22m\n",
                            "\n",
                            " Memory estimate\u001b[90m: \u001b[39m\u001b[33m23.12 MiB\u001b[39m, allocs estimate\u001b[90m: \u001b[39m\u001b[33m202\u001b[39m."
                        ]
                    },
                    "metadata": {},
                    "execution_count": 11
                }
            ],
            "metadata": {}
        },
        {
            "cell_type": "code",
            "execution_count": 12,
            "source": [
                "@benchmark freeEvolve!(atoms,t_max,dt)"
            ],
            "outputs": [
                {
                    "output_type": "execute_result",
                    "data": {
                        "text/plain": [
                            "BenchmarkTools.Trial: 22 samples with 1 evaluation.\n",
                            " Range \u001b[90m(\u001b[39m\u001b[36m\u001b[1mmin\u001b[22m\u001b[39m … \u001b[35mmax\u001b[39m\u001b[90m):  \u001b[39m\u001b[36m\u001b[1m216.669 ms\u001b[22m\u001b[39m … \u001b[35m242.865 ms\u001b[39m  \u001b[90m┊\u001b[39m GC \u001b[90m(\u001b[39mmin … max\u001b[90m): \u001b[39m10.23% … 9.24%\n",
                            " Time  \u001b[90m(\u001b[39m\u001b[34m\u001b[1mmedian\u001b[22m\u001b[39m\u001b[90m):     \u001b[39m\u001b[34m\u001b[1m226.479 ms               \u001b[22m\u001b[39m\u001b[90m┊\u001b[39m GC \u001b[90m(\u001b[39mmedian\u001b[90m):    \u001b[39m10.04%\n",
                            " Time  \u001b[90m(\u001b[39m\u001b[32m\u001b[1mmean\u001b[22m\u001b[39m ± \u001b[32mσ\u001b[39m\u001b[90m):   \u001b[39m\u001b[32m\u001b[1m227.866 ms\u001b[22m\u001b[39m ± \u001b[32m  7.028 ms\u001b[39m  \u001b[90m┊\u001b[39m GC \u001b[90m(\u001b[39mmean ± σ\u001b[90m):  \u001b[39m 9.97% ± 0.86%\n",
                            "\n",
                            "  \u001b[39m▁\u001b[39m \u001b[39m \u001b[39m \u001b[39m \u001b[39m▁\u001b[39m \u001b[39m \u001b[39m▁\u001b[39m▁\u001b[39m█\u001b[39m \u001b[39m \u001b[39m \u001b[39m \u001b[39m▁\u001b[39m \u001b[39m \u001b[39m▁\u001b[39m \u001b[39m▁\u001b[34m█\u001b[39m\u001b[39m \u001b[39m \u001b[39m▁\u001b[39m \u001b[32m▁\u001b[39m\u001b[39m \u001b[39m▁\u001b[39m▁\u001b[39m \u001b[39m \u001b[39m \u001b[39m \u001b[39m \u001b[39m▁\u001b[39m \u001b[39m \u001b[39m▁\u001b[39m \u001b[39m \u001b[39m▁\u001b[39m▁\u001b[39m \u001b[39m \u001b[39m \u001b[39m \u001b[39m \u001b[39m \u001b[39m▁\u001b[39m \u001b[39m \u001b[39m▁\u001b[39m \u001b[39m \u001b[39m \u001b[39m \u001b[39m \u001b[39m \u001b[39m \u001b[39m▁\u001b[39m \u001b[39m \n",
                            "  \u001b[39m█\u001b[39m▁\u001b[39m▁\u001b[39m▁\u001b[39m▁\u001b[39m█\u001b[39m▁\u001b[39m▁\u001b[39m█\u001b[39m█\u001b[39m█\u001b[39m▁\u001b[39m▁\u001b[39m▁\u001b[39m▁\u001b[39m█\u001b[39m▁\u001b[39m▁\u001b[39m█\u001b[39m▁\u001b[39m█\u001b[34m█\u001b[39m\u001b[39m▁\u001b[39m▁\u001b[39m█\u001b[39m▁\u001b[32m█\u001b[39m\u001b[39m▁\u001b[39m█\u001b[39m█\u001b[39m▁\u001b[39m▁\u001b[39m▁\u001b[39m▁\u001b[39m▁\u001b[39m█\u001b[39m▁\u001b[39m▁\u001b[39m█\u001b[39m▁\u001b[39m▁\u001b[39m█\u001b[39m█\u001b[39m▁\u001b[39m▁\u001b[39m▁\u001b[39m▁\u001b[39m▁\u001b[39m▁\u001b[39m█\u001b[39m▁\u001b[39m▁\u001b[39m█\u001b[39m▁\u001b[39m▁\u001b[39m▁\u001b[39m▁\u001b[39m▁\u001b[39m▁\u001b[39m▁\u001b[39m█\u001b[39m \u001b[39m▁\n",
                            "  217 ms\u001b[90m           Histogram: frequency by time\u001b[39m          243 ms \u001b[0m\u001b[1m<\u001b[22m\n",
                            "\n",
                            " Memory estimate\u001b[90m: \u001b[39m\u001b[33m215.76 MiB\u001b[39m, allocs estimate\u001b[90m: \u001b[39m\u001b[33m2020000\u001b[39m."
                        ]
                    },
                    "metadata": {},
                    "execution_count": 12
                }
            ],
            "metadata": {}
        },
        {
            "cell_type": "markdown",
            "source": [
                "## Visualisation (struct method)"
            ],
            "metadata": {}
        },
        {
            "cell_type": "code",
            "execution_count": 13,
            "source": [
                "#=\n",
                "# Run for 10 virtual seconds and create gif.\n",
                "t = 0\n",
                "t_max = 10\n",
                "\n",
                "anim = @animate for i in 1:ceil(t_max/dt)\n",
                "    plotAtoms(step!(atoms, dt))\n",
                "end\n",
                "\n",
                "gif(anim, \"anim_fps15.gif\", fps = 15)\n",
                "=#"
            ],
            "outputs": [],
            "metadata": {}
        },
        {
            "cell_type": "code",
            "execution_count": null,
            "source": [],
            "outputs": [],
            "metadata": {}
        }
    ],
    "metadata": {
        "orig_nbformat": 4,
        "language_info": {
            "file_extension": ".jl",
            "name": "julia",
            "mimetype": "application/julia",
            "version": "1.6.1"
        },
        "kernelspec": {
            "name": "julia-1.6",
            "display_name": "Julia 1.6.1",
            "language": "julia"
        }
    },
    "nbformat": 4,
    "nbformat_minor": 2
}