{
 "cells": [
  {
   "cell_type": "markdown",
   "source": [
    "# Development notebook for optical evaporative cooling DSMC\n",
    "Patrick Gleeson, Semester 2 2021"
   ],
   "metadata": {}
  },
  {
   "cell_type": "code",
   "execution_count": 24,
   "source": [
    "#= Setup\n",
    "\n",
    "# using Pkg\n",
    "# Pkg.add(\"BenchmarkTools\")\n",
    "# Pkg.add(\"LinearAlgebra)\n",
    "# Pkg.add(\"Calculus\")\n",
    "\n",
    "# using BenchmarkTools\n",
    "# using Calculus\n",
    "# using LinearAlgebra\n",
    "# using Plots"
   ],
   "outputs": [],
   "metadata": {}
  }
 ],
 "metadata": {
  "kernelspec": {
   "display_name": "Julia 1.6.1",
   "language": "julia",
   "name": "julia-1.6"
  },
  "language_info": {
   "file_extension": ".jl",
   "mimetype": "application/julia",
   "name": "julia",
   "version": "1.6.1"
  }
 },
 "nbformat": 4,
 "nbformat_minor": 2
}